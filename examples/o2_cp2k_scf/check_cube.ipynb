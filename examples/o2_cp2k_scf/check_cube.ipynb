{
 "cells": [
  {
   "cell_type": "code",
   "execution_count": 1,
   "id": "06c0b247",
   "metadata": {},
   "outputs": [],
   "source": [
    "import numpy as np\n",
    "import matplotlib.pyplot as plt\n",
    "\n",
    "import os\n",
    "\n",
    "from cp2k_spm_tools import cube, cp2k_wfn_file"
   ]
  },
  {
   "cell_type": "code",
   "execution_count": 114,
   "id": "8a8ba758",
   "metadata": {},
   "outputs": [],
   "source": [
    "wfn1=cube.Cube()\n",
    "wfn2=cube.Cube()\n",
    "cube1=\"PROJ0-WFN_00006_1-1_0.cube\"\n",
    "cube2=\"../o2_cube_from_wfn/cubes/S0_7_LUMO.cube\"\n",
    "cube2=\"PROJ-WFN_00006_1-1_0.cube\"\n",
    "#cube2=\"PROJ0-WFN_00006_1-1_0.cube\"\n",
    "wfn1.read_cube_file(cube1)\n",
    "wfn2.read_cube_file(cube2)"
   ]
  },
  {
   "cell_type": "code",
   "execution_count": 115,
   "id": "6f887323",
   "metadata": {},
   "outputs": [],
   "source": [
    "dV1=wfn1.dv_au[0][0]*wfn1.dv_au[1][1]*wfn1.dv_au[2][2]\n",
    "dV2=wfn2.dv_au[0][0]*wfn2.dv_au[1][1]*wfn2.dv_au[2][2]"
   ]
  },
  {
   "cell_type": "code",
   "execution_count": 116,
   "id": "9d1e1536",
   "metadata": {},
   "outputs": [
    {
     "name": "stdout",
     "output_type": "stream",
     "text": [
      "0.9999921526683452\n",
      "0.9999917714674273\n",
      "-0.1764931436832654\n"
     ]
    }
   ],
   "source": [
    "print(np.sum(wfn1.data *wfn1.data) * dV1)\n",
    "print(np.sum(wfn2.data *wfn2.data) * dV2)\n",
    "print(np.sum(wfn1.data * wfn2.data) * dV2)"
   ]
  },
  {
   "cell_type": "code",
   "execution_count": 77,
   "id": "22e3a986",
   "metadata": {},
   "outputs": [
    {
     "data": {
      "text/plain": [
       "0.5550379999999999"
      ]
     },
     "execution_count": 77,
     "metadata": {},
     "output_type": "execute_result"
    }
   ],
   "source": [
    "np.max(np.abs(wfn1.data)-np.abs(wfn2.data))"
   ]
  },
  {
   "cell_type": "code",
   "execution_count": 120,
   "id": "82c2657a",
   "metadata": {},
   "outputs": [
    {
     "name": "stderr",
     "output_type": "stream",
     "text": [
      "/var/folders/rz/lybdd3ss2mq6s3k7bt1z6s8h0000gp/T/ipykernel_19478/697564969.py:4: RuntimeWarning: invalid value encountered in divide\n",
      "  dv = cell / global_cell_n\n"
     ]
    }
   ],
   "source": [
    "cell=np.array([[15,0,0],[0,15,0],[0,0,13]])\n",
    "dr_guess=0.16\n",
    "global_cell_n = (np.round(cell / dr_guess)).astype(int)\n",
    "dv = cell / global_cell_n\n"
   ]
  },
  {
   "cell_type": "code",
   "execution_count": 121,
   "id": "bc6d6df5",
   "metadata": {},
   "outputs": [
    {
     "data": {
      "text/plain": [
       "array([[94,  0,  0],\n",
       "       [ 0, 94,  0],\n",
       "       [ 0,  0, 81]])"
      ]
     },
     "execution_count": 121,
     "metadata": {},
     "output_type": "execute_result"
    }
   ],
   "source": [
    "global_cell_n"
   ]
  },
  {
   "cell_type": "code",
   "execution_count": 122,
   "id": "8b54479d",
   "metadata": {},
   "outputs": [
    {
     "data": {
      "text/plain": [
       "array([[0.15957447,        nan,        nan],\n",
       "       [       nan, 0.15957447,        nan],\n",
       "       [       nan,        nan, 0.16049383]])"
      ]
     },
     "execution_count": 122,
     "metadata": {},
     "output_type": "execute_result"
    }
   ],
   "source": [
    "dv"
   ]
  },
  {
   "cell_type": "code",
   "execution_count": 4,
   "id": "ddc1b11f",
   "metadata": {},
   "outputs": [],
   "source": [
    "wfn=cp2k_wfn_file.Cp2kWfnFile()"
   ]
  },
  {
   "cell_type": "code",
   "execution_count": 7,
   "id": "0eb578ec",
   "metadata": {},
   "outputs": [
    {
     "name": "stdout",
     "output_type": "stream",
     "text": [
      "R0/1, loading indexes (s0/2) 3:7 / 3:7\n",
      "R0/1, loading indexes (s1/2) 3:7 / 3:7\n"
     ]
    }
   ],
   "source": [
    "wfn.load_restart_wfn_file(\"PROJ-RESTART.wfn\", emin=None, emax=None, n_occ=3, n_virt=2)"
   ]
  },
  {
   "cell_type": "code",
   "execution_count": 8,
   "id": "c1f09270",
   "metadata": {},
   "outputs": [
    {
     "data": {
      "text/plain": [
       "[6, 4]"
      ]
     },
     "execution_count": 8,
     "metadata": {},
     "output_type": "execute_result"
    }
   ],
   "source": [
    "wfn.i_homo"
   ]
  },
  {
   "cell_type": "code",
   "execution_count": 10,
   "id": "2ba5573e",
   "metadata": {},
   "outputs": [
    {
     "data": {
      "text/plain": [
       "[array([4, 5, 6, 7, 8]), array([4, 5, 6, 7, 8])]"
      ]
     },
     "execution_count": 10,
     "metadata": {},
     "output_type": "execute_result"
    }
   ],
   "source": [
    "wfn.global_morb_indexes"
   ]
  },
  {
   "cell_type": "code",
   "execution_count": null,
   "id": "c51e6cc9",
   "metadata": {},
   "outputs": [],
   "source": []
  }
 ],
 "metadata": {
  "kernelspec": {
   "display_name": "Python 3 (ipykernel)",
   "language": "python",
   "name": "python3"
  },
  "language_info": {
   "codemirror_mode": {
    "name": "ipython",
    "version": 3
   },
   "file_extension": ".py",
   "mimetype": "text/x-python",
   "name": "python",
   "nbconvert_exporter": "python",
   "pygments_lexer": "ipython3",
   "version": "3.11.4"
  }
 },
 "nbformat": 4,
 "nbformat_minor": 5
}
